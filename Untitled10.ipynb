{
  "nbformat": 4,
  "nbformat_minor": 0,
  "metadata": {
    "colab": {
      "provenance": []
    },
    "kernelspec": {
      "name": "python3",
      "display_name": "Python 3"
    },
    "language_info": {
      "name": "python"
    }
  },
  "cells": [
    {
      "cell_type": "code",
      "execution_count": 3,
      "metadata": {
        "id": "ZSeKJd1FnUyJ"
      },
      "outputs": [],
      "source": []
    },
    {
      "cell_type": "code",
      "source": [
        "\n",
        "def tanh(x):\n",
        "    return np.tanh(x)\n",
        "\n",
        "input_size = 2\n",
        "hidden_size = 2\n",
        "output_size = 1\n",
        "\n",
        "np.random.seed(42)\n",
        "W1 = np.random.uniform(-0.5, 0.5, (hidden_size, input_size))\n",
        "W2 = np.random.uniform(-0.5, 0.5, (output_size, hidden_size))\n",
        "\n",
        "b1 = np.array([0.5, 0.5])\n",
        "b2 = np.array([0.7])\n",
        "\n",
        "X = np.array([0.3, -0.2])\n",
        "\n",
        "hidden_input = np.dot(W1, X) + b1\n",
        "hidden_output = tanh(hidden_input)\n",
        "\n",
        "output_input = np.dot(W2, hidden_output) + b2\n",
        "output = tanh(output_input)\n",
        "\n",
        "print(\"Output of the network:\", output)\n"
      ],
      "metadata": {
        "colab": {
          "base_uri": "https://localhost:8080/"
        },
        "id": "anGgEkNfnqci",
        "outputId": "9444c7b3-4999-4289-d641-c0f03738d7eb"
      },
      "execution_count": 3,
      "outputs": [
        {
          "output_type": "stream",
          "name": "stdout",
          "text": [
            "Output of the network: [0.3845761]\n"
          ]
        }
      ]
    }
  ]
}